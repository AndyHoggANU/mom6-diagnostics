{
 "cells": [
  {
   "cell_type": "markdown",
   "id": "d73e822f-4939-46f2-ba2b-a55777a6fc77",
   "metadata": {},
   "source": [
    "# Replicating RFNC1 function"
   ]
  },
  {
   "cell_type": "code",
   "execution_count": 1,
   "id": "37338096-4dc5-4b70-a90b-f2289df99251",
   "metadata": {},
   "outputs": [],
   "source": [
    "import matplotlib.pyplot as plt\n",
    "import numpy as np"
   ]
  },
  {
   "cell_type": "code",
   "execution_count": 9,
   "id": "7857e53b-accd-45f3-abaa-91ee0bdc773b",
   "metadata": {},
   "outputs": [],
   "source": [
    "nk = 70 \n",
    "rho_1 = 999.5\n",
    "rho_2 = 1028\n",
    "rho_3 = 1028.5\n",
    "drho = 7.\n",
    "rho_4 = 1037.7\n",
    "drho_min = 0.0078125"
   ]
  },
  {
   "cell_type": "code",
   "execution_count": 26,
   "id": "c8098bea-b5f9-47af-b574-a557f600f0cf",
   "metadata": {},
   "outputs": [],
   "source": [
    "def RFNC1(nk,rho_1,rho_2,rho_3,drho,rho_4,drho_min):\n",
    "    rho_target = np.zeros(nk+1)\n",
    "    nki = nk + 1 - 4 # Number of interfaces minus 4 specified values\n",
    "    rho_target[0] = rho_1\n",
    "    rho_target[1] = rho_2\n",
    "    dx = 0.\n",
    "    for k in range(nki+1):\n",
    "        ddx = np.max( [drho_min, (nki-k)/(nki*nki)] )\n",
    "        dx = dx + ddx\n",
    "        rho_target[2+k] = rho_3 + (2. * drho) * dx\n",
    "    rho_target[3+nki] = rho_4\n",
    "    return rho_target"
   ]
  },
  {
   "cell_type": "code",
   "execution_count": 27,
   "id": "8e680c25-24a9-4760-b8b2-d375564ae95b",
   "metadata": {},
   "outputs": [
    {
     "data": {
      "text/plain": [
       "array([ 999.5       , 1028.        , 1028.70895522, 1028.91479171,\n",
       "       1029.11750947, 1029.31710849, 1029.51358877, 1029.70695032,\n",
       "       1029.89719314, 1030.08431722, 1030.26832257, 1030.44920918,\n",
       "       1030.62697706, 1030.8016262 , 1030.97315661, 1031.14156828,\n",
       "       1031.30686122, 1031.46903542, 1031.62809089, 1031.78402762,\n",
       "       1031.93684562, 1032.08654489, 1032.23312542, 1032.37658721,\n",
       "       1032.51693027, 1032.6541546 , 1032.78826019, 1032.91924705,\n",
       "       1033.04711517, 1033.17186456, 1033.29349521, 1033.41200713,\n",
       "       1033.52740031, 1033.63967476, 1033.74904976, 1033.85842476,\n",
       "       1033.96779976, 1034.07717476, 1034.18654976, 1034.29592476,\n",
       "       1034.40529976, 1034.51467476, 1034.62404976, 1034.73342476,\n",
       "       1034.84279976, 1034.95217476, 1035.06154976, 1035.17092476,\n",
       "       1035.28029976, 1035.38967476, 1035.49904976, 1035.60842476,\n",
       "       1035.71779976, 1035.82717476, 1035.93654976, 1036.04592476,\n",
       "       1036.15529976, 1036.26467476, 1036.37404976, 1036.48342476,\n",
       "       1036.59279976, 1036.70217476, 1036.81154976, 1036.92092476,\n",
       "       1037.03029976, 1037.13967476, 1037.24904976, 1037.35842476,\n",
       "       1037.46779976, 1037.57717476, 1037.7       ])"
      ]
     },
     "execution_count": 27,
     "metadata": {},
     "output_type": "execute_result"
    }
   ],
   "source": [
    "rho_target_orig = RFNC1(nk,rho_1,rho_2,rho_3,drho,rho_4,drho_min)\n",
    "rho_target_orig"
   ]
  },
  {
   "cell_type": "code",
   "execution_count": 46,
   "id": "940ba4e4-3428-4804-b7c8-a180692c0708",
   "metadata": {},
   "outputs": [
    {
     "data": {
      "text/plain": [
       "array([ 999.5       , 1033.        , 1033.78955224, 1033.87776788,\n",
       "       1033.96464691, 1034.05018935, 1034.13439519, 1034.21726442,\n",
       "       1034.29879706, 1034.37899309, 1034.45785253, 1034.53537536,\n",
       "       1034.6115616 , 1034.68641123, 1034.75992426, 1034.83210069,\n",
       "       1034.90294052, 1034.97244375, 1035.04061038, 1035.10744041,\n",
       "       1035.17293384, 1035.23709067, 1035.29991089, 1035.36139452,\n",
       "       1035.42154155, 1035.48035197, 1035.5378258 , 1035.59396302,\n",
       "       1035.64876364, 1035.70222767, 1035.75435509, 1035.80514591,\n",
       "       1035.85460013, 1035.90271775, 1035.94959275, 1035.99646775,\n",
       "       1036.04334275, 1036.09021775, 1036.13709275, 1036.18396775,\n",
       "       1036.23084275, 1036.27771775, 1036.32459275, 1036.37146775,\n",
       "       1036.41834275, 1036.46521775, 1036.51209275, 1036.55896775,\n",
       "       1036.60584275, 1036.65271775, 1036.69959275, 1036.74646775,\n",
       "       1036.79334275, 1036.84021775, 1036.88709275, 1036.93396775,\n",
       "       1036.98084275, 1037.02771775, 1037.07459275, 1037.12146775,\n",
       "       1037.16834275, 1037.21521775, 1037.26209275, 1037.30896775,\n",
       "       1037.35584275, 1037.40271775, 1037.44959275, 1037.49646775,\n",
       "       1037.54334275, 1037.59021775, 1037.7       ])"
      ]
     },
     "execution_count": 46,
     "metadata": {},
     "output_type": "execute_result"
    }
   ],
   "source": [
    "rho_2 = 1033\n",
    "rho_3 = 1033.7\n",
    "drho=3\n",
    "rho_target_new = RFNC1(nk,rho_1,rho_2,rho_3,drho,rho_4,drho_min)\n",
    "rho_target_new"
   ]
  },
  {
   "cell_type": "code",
   "execution_count": 47,
   "id": "c00b1ad0-861e-432e-90d3-ac213b75717f",
   "metadata": {},
   "outputs": [
    {
     "data": {
      "text/plain": [
       "<matplotlib.legend.Legend at 0x7fa4f9864a00>"
      ]
     },
     "execution_count": 47,
     "metadata": {},
     "output_type": "execute_result"
    },
    {
     "data": {
      "image/png": "[encoded data removed]",
      "text/plain": [
       "<Figure size 432x288 with 1 Axes>"
      ]
     },
     "metadata": {
      "needs_background": "light"
     },
     "output_type": "display_data"
    }
   ],
   "source": [
    "plt.plot(rho_target_orig,label='orig')\n",
    "plt.plot(rho_target_new,label='new')\n",
    "plt.ylim(ymin=1030)\n",
    "plt.legend()"
   ]
  },
  {
   "cell_type": "code",
   "execution_count": 25,
   "id": "c05b4cb5-844c-455a-bda3-f0c8dd72b8a2",
   "metadata": {},
   "outputs": [
    {
     "data": {
      "text/plain": [
       "0.014925373134328358"
      ]
     },
     "execution_count": 25,
     "metadata": {},
     "output_type": "execute_result"
    }
   ],
   "source": [
    "(nki-0)/(nki*nki)"
   ]
  },
  {
   "cell_type": "code",
   "execution_count": 48,
   "id": "43cc8bfc-89a5-4acf-b7b4-73e657234d48",
   "metadata": {},
   "outputs": [
    {
     "data": {
      "text/plain": [
       "array([33.5       ,  0.78955224,  0.08821564,  0.08687904,  0.08554244,\n",
       "        0.08420584,  0.08286924,  0.08153264,  0.08019603,  0.07885943,\n",
       "        0.07752283,  0.07618623,  0.07484963,  0.07351303,  0.07217643,\n",
       "        0.07083983,  0.06950323,  0.06816663,  0.06683003,  0.06549343,\n",
       "        0.06415683,  0.06282023,  0.06148363,  0.06014703,  0.05881043,\n",
       "        0.05747382,  0.05613722,  0.05480062,  0.05346402,  0.05212742,\n",
       "        0.05079082,  0.04945422,  0.04811762,  0.046875  ,  0.046875  ,\n",
       "        0.046875  ,  0.046875  ,  0.046875  ,  0.046875  ,  0.046875  ,\n",
       "        0.046875  ,  0.046875  ,  0.046875  ,  0.046875  ,  0.046875  ,\n",
       "        0.046875  ,  0.046875  ,  0.046875  ,  0.046875  ,  0.046875  ,\n",
       "        0.046875  ,  0.046875  ,  0.046875  ,  0.046875  ,  0.046875  ,\n",
       "        0.046875  ,  0.046875  ,  0.046875  ,  0.046875  ,  0.046875  ,\n",
       "        0.046875  ,  0.046875  ,  0.046875  ,  0.046875  ,  0.046875  ,\n",
       "        0.046875  ,  0.046875  ,  0.046875  ,  0.046875  ,  0.10978225])"
      ]
     },
     "execution_count": 48,
     "metadata": {},
     "output_type": "execute_result"
    }
   ],
   "source": [
    "np.diff(rho_target_new)"
   ]
  },
  {
   "cell_type": "code",
   "execution_count": null,
   "id": "39d116fd-98b1-4b7d-b52d-68f823943f8a",
   "metadata": {},
   "outputs": [],
   "source": []
  }
 ],
 "metadata": {
  "kernelspec": {
   "display_name": "Python [conda env:analysis3-21.07]",
   "language": "python",
   "name": "conda-env-analysis3-21.07-py"
  },
  "language_info": {
   "codemirror_mode": {
    "name": "ipython",
    "version": 3
   },
   "file_extension": ".py",
   "mimetype": "text/x-python",
   "name": "python",
   "nbconvert_exporter": "python",
   "pygments_lexer": "ipython3",
   "version": "3.9.7"
  }
 },
 "nbformat": 4,
 "nbformat_minor": 5
}
